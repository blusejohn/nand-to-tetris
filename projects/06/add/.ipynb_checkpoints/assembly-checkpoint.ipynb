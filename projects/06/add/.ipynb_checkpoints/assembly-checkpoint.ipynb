{
 "cells": [
  {
   "cell_type": "code",
   "execution_count": 51,
   "metadata": {},
   "outputs": [],
   "source": [
    "def parser(inputFile):\n",
    "    lines = inputFile.readlines()\n",
    "    parse_result = []\n",
    "    ##Take away '//' and empty line\n",
    "    for line in lines:\n",
    "        if(line == '\\n'):\n",
    "            continue\n",
    "        elif(line[0]=='/'):\n",
    "            continue\n",
    "        parse_result.append(line)\n",
    "        print(line)\n",
    "    return parse_result"
   ]
  },
  {
   "cell_type": "code",
   "execution_count": 52,
   "metadata": {},
   "outputs": [],
   "source": [
    "x = \"{0:016b}\".format(37)\n"
   ]
  },
  {
   "cell_type": "code",
   "execution_count": 53,
   "metadata": {},
   "outputs": [
    {
     "name": "stdout",
     "output_type": "stream",
     "text": [
      "@2\n",
      "\n",
      "D=A\n",
      "\n",
      "@3\n",
      "\n",
      "D=D+A\n",
      "\n",
      "@0\n",
      "\n",
      "M=D\n",
      "\n"
     ]
    }
   ],
   "source": [
    "inputFile1 = open('Add.asm', 'r')\n",
    "lines = inputFile.readlines()\n",
    "result = parser(inputFile1)"
   ]
  },
  {
   "cell_type": "code",
   "execution_count": 54,
   "metadata": {},
   "outputs": [
    {
     "data": {
      "text/plain": [
       "['@2\\n', 'D=A\\n', '@3\\n', 'D=D+A\\n', '@0\\n', 'M=D\\n']"
      ]
     },
     "execution_count": 54,
     "metadata": {},
     "output_type": "execute_result"
    }
   ],
   "source": [
    "result"
   ]
  },
  {
   "cell_type": "code",
   "execution_count": null,
   "metadata": {},
   "outputs": [],
   "source": []
  }
 ],
 "metadata": {
  "kernelspec": {
   "display_name": "Python 3",
   "language": "python",
   "name": "python3"
  },
  "language_info": {
   "codemirror_mode": {
    "name": "ipython",
    "version": 3
   },
   "file_extension": ".py",
   "mimetype": "text/x-python",
   "name": "python",
   "nbconvert_exporter": "python",
   "pygments_lexer": "ipython3",
   "version": "3.7.4"
  }
 },
 "nbformat": 4,
 "nbformat_minor": 2
}
